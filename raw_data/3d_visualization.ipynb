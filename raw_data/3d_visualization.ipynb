{
 "cells": [
  {
   "cell_type": "code",
   "execution_count": 84,
   "metadata": {
    "ExecuteTime": {
     "end_time": "2018-02-24T21:32:10.972754Z",
     "start_time": "2018-02-24T21:32:10.970225Z"
    },
    "collapsed": true
   },
   "outputs": [],
   "source": [
    "import pandas as pd\n",
    "import os\n",
    "import subprocess"
   ]
  },
  {
   "cell_type": "code",
   "execution_count": 85,
   "metadata": {
    "ExecuteTime": {
     "end_time": "2018-02-24T21:32:10.992409Z",
     "start_time": "2018-02-24T21:32:10.974269Z"
    }
   },
   "outputs": [
    {
     "data": {
      "text/plain": [
       "b'3d_visualization.ipynb\\nprogramming_languages.csv\\ntimes.py\\n'"
      ]
     },
     "execution_count": 85,
     "metadata": {},
     "output_type": "execute_result"
    }
   ],
   "source": [
    "subprocess.check_output('ls')"
   ]
  },
  {
   "cell_type": "code",
   "execution_count": 86,
   "metadata": {
    "ExecuteTime": {
     "end_time": "2018-02-24T21:32:11.030514Z",
     "start_time": "2018-02-24T21:32:10.994041Z"
    },
    "collapsed": true
   },
   "outputs": [],
   "source": [
    "df= pd.read_csv('/home/benson/Dropbox/Code/Projects/Mat259_3D/raw_data/programming_languages.csv')"
   ]
  },
  {
   "cell_type": "code",
   "execution_count": 87,
   "metadata": {
    "ExecuteTime": {
     "end_time": "2018-02-24T21:32:11.035734Z",
     "start_time": "2018-02-24T21:32:11.031908Z"
    }
   },
   "outputs": [
    {
     "data": {
      "text/plain": [
       "1116"
      ]
     },
     "execution_count": 87,
     "metadata": {},
     "output_type": "execute_result"
    }
   ],
   "source": [
    "len(list(df['itemNumber'].unique()))"
   ]
  },
  {
   "cell_type": "code",
   "execution_count": 88,
   "metadata": {
    "ExecuteTime": {
     "end_time": "2018-02-24T21:32:11.054859Z",
     "start_time": "2018-02-24T21:32:11.037247Z"
    }
   },
   "outputs": [
    {
     "data": {
      "text/html": [
       "<div>\n",
       "<style>\n",
       "    .dataframe thead tr:only-child th {\n",
       "        text-align: right;\n",
       "    }\n",
       "\n",
       "    .dataframe thead th {\n",
       "        text-align: left;\n",
       "    }\n",
       "\n",
       "    .dataframe tbody tr th {\n",
       "        vertical-align: top;\n",
       "    }\n",
       "</style>\n",
       "<table border=\"1\" class=\"dataframe\">\n",
       "  <thead>\n",
       "    <tr style=\"text-align: right;\">\n",
       "      <th></th>\n",
       "      <th>itemNumber</th>\n",
       "      <th>title</th>\n",
       "      <th>cout</th>\n",
       "      <th>cin</th>\n",
       "    </tr>\n",
       "  </thead>\n",
       "  <tbody>\n",
       "    <tr>\n",
       "      <th>0</th>\n",
       "      <td>24804</td>\n",
       "      <td>C in a nutshell</td>\n",
       "      <td>2005-11-19 17:23:00</td>\n",
       "      <td>2006-01-31 15:25:00</td>\n",
       "    </tr>\n",
       "    <tr>\n",
       "      <th>1</th>\n",
       "      <td>24804</td>\n",
       "      <td>C in a nutshell</td>\n",
       "      <td>2006-05-01 17:36:00</td>\n",
       "      <td>2006-05-06 12:51:00</td>\n",
       "    </tr>\n",
       "    <tr>\n",
       "      <th>2</th>\n",
       "      <td>24980</td>\n",
       "      <td>C in a nutshell</td>\n",
       "      <td>2006-01-06 13:04:00</td>\n",
       "      <td>2006-01-27 11:49:00</td>\n",
       "    </tr>\n",
       "    <tr>\n",
       "      <th>3</th>\n",
       "      <td>24980</td>\n",
       "      <td>C in a nutshell</td>\n",
       "      <td>2006-01-06 13:04:00</td>\n",
       "      <td>2006-01-30 18:46:00</td>\n",
       "    </tr>\n",
       "    <tr>\n",
       "      <th>4</th>\n",
       "      <td>24980</td>\n",
       "      <td>C in a nutshell</td>\n",
       "      <td>2006-01-06 13:04:00</td>\n",
       "      <td>2006-02-01 16:43:00</td>\n",
       "    </tr>\n",
       "    <tr>\n",
       "      <th>5</th>\n",
       "      <td>24980</td>\n",
       "      <td>C in a nutshell</td>\n",
       "      <td>2006-01-06 13:04:00</td>\n",
       "      <td>2006-02-09 21:49:00</td>\n",
       "    </tr>\n",
       "    <tr>\n",
       "      <th>6</th>\n",
       "      <td>24980</td>\n",
       "      <td>C in a nutshell</td>\n",
       "      <td>2006-01-06 13:04:00</td>\n",
       "      <td>2006-02-10 10:06:00</td>\n",
       "    </tr>\n",
       "    <tr>\n",
       "      <th>7</th>\n",
       "      <td>24980</td>\n",
       "      <td>C in a nutshell</td>\n",
       "      <td>2006-04-22 13:37:00</td>\n",
       "      <td>2006-06-24 17:11:00</td>\n",
       "    </tr>\n",
       "    <tr>\n",
       "      <th>8</th>\n",
       "      <td>24980</td>\n",
       "      <td>C in a nutshell</td>\n",
       "      <td>2006-04-22 13:37:00</td>\n",
       "      <td>2006-06-28 17:05:00</td>\n",
       "    </tr>\n",
       "    <tr>\n",
       "      <th>9</th>\n",
       "      <td>24980</td>\n",
       "      <td>C in a nutshell</td>\n",
       "      <td>2006-04-22 13:37:00</td>\n",
       "      <td>2006-06-29 12:41:00</td>\n",
       "    </tr>\n",
       "  </tbody>\n",
       "</table>\n",
       "</div>"
      ],
      "text/plain": [
       "   itemNumber            title                 cout                  cin\n",
       "0       24804  C in a nutshell  2005-11-19 17:23:00  2006-01-31 15:25:00\n",
       "1       24804  C in a nutshell  2006-05-01 17:36:00  2006-05-06 12:51:00\n",
       "2       24980  C in a nutshell  2006-01-06 13:04:00  2006-01-27 11:49:00\n",
       "3       24980  C in a nutshell  2006-01-06 13:04:00  2006-01-30 18:46:00\n",
       "4       24980  C in a nutshell  2006-01-06 13:04:00  2006-02-01 16:43:00\n",
       "5       24980  C in a nutshell  2006-01-06 13:04:00  2006-02-09 21:49:00\n",
       "6       24980  C in a nutshell  2006-01-06 13:04:00  2006-02-10 10:06:00\n",
       "7       24980  C in a nutshell  2006-04-22 13:37:00  2006-06-24 17:11:00\n",
       "8       24980  C in a nutshell  2006-04-22 13:37:00  2006-06-28 17:05:00\n",
       "9       24980  C in a nutshell  2006-04-22 13:37:00  2006-06-29 12:41:00"
      ]
     },
     "execution_count": 88,
     "metadata": {},
     "output_type": "execute_result"
    }
   ],
   "source": [
    "df.head(10)"
   ]
  },
  {
   "cell_type": "code",
   "execution_count": 89,
   "metadata": {
    "ExecuteTime": {
     "end_time": "2018-02-24T21:32:11.069537Z",
     "start_time": "2018-02-24T21:32:11.056199Z"
    },
    "collapsed": true
   },
   "outputs": [],
   "source": [
    "df['cin']=df['cin'].shift(1)"
   ]
  },
  {
   "cell_type": "code",
   "execution_count": 90,
   "metadata": {
    "ExecuteTime": {
     "end_time": "2018-02-24T21:32:11.089205Z",
     "start_time": "2018-02-24T21:32:11.071022Z"
    }
   },
   "outputs": [
    {
     "data": {
      "text/html": [
       "<div>\n",
       "<style>\n",
       "    .dataframe thead tr:only-child th {\n",
       "        text-align: right;\n",
       "    }\n",
       "\n",
       "    .dataframe thead th {\n",
       "        text-align: left;\n",
       "    }\n",
       "\n",
       "    .dataframe tbody tr th {\n",
       "        vertical-align: top;\n",
       "    }\n",
       "</style>\n",
       "<table border=\"1\" class=\"dataframe\">\n",
       "  <thead>\n",
       "    <tr style=\"text-align: right;\">\n",
       "      <th></th>\n",
       "      <th>itemNumber</th>\n",
       "      <th>title</th>\n",
       "      <th>cout</th>\n",
       "      <th>cin</th>\n",
       "    </tr>\n",
       "  </thead>\n",
       "  <tbody>\n",
       "    <tr>\n",
       "      <th>0</th>\n",
       "      <td>24804</td>\n",
       "      <td>C in a nutshell</td>\n",
       "      <td>2005-11-19 17:23:00</td>\n",
       "      <td>NaN</td>\n",
       "    </tr>\n",
       "    <tr>\n",
       "      <th>1</th>\n",
       "      <td>24804</td>\n",
       "      <td>C in a nutshell</td>\n",
       "      <td>2006-05-01 17:36:00</td>\n",
       "      <td>2006-01-31 15:25:00</td>\n",
       "    </tr>\n",
       "    <tr>\n",
       "      <th>2</th>\n",
       "      <td>24980</td>\n",
       "      <td>C in a nutshell</td>\n",
       "      <td>2006-01-06 13:04:00</td>\n",
       "      <td>2006-05-06 12:51:00</td>\n",
       "    </tr>\n",
       "    <tr>\n",
       "      <th>3</th>\n",
       "      <td>24980</td>\n",
       "      <td>C in a nutshell</td>\n",
       "      <td>2006-01-06 13:04:00</td>\n",
       "      <td>2006-01-27 11:49:00</td>\n",
       "    </tr>\n",
       "    <tr>\n",
       "      <th>4</th>\n",
       "      <td>24980</td>\n",
       "      <td>C in a nutshell</td>\n",
       "      <td>2006-01-06 13:04:00</td>\n",
       "      <td>2006-01-30 18:46:00</td>\n",
       "    </tr>\n",
       "  </tbody>\n",
       "</table>\n",
       "</div>"
      ],
      "text/plain": [
       "   itemNumber            title                 cout                  cin\n",
       "0       24804  C in a nutshell  2005-11-19 17:23:00                  NaN\n",
       "1       24804  C in a nutshell  2006-05-01 17:36:00  2006-01-31 15:25:00\n",
       "2       24980  C in a nutshell  2006-01-06 13:04:00  2006-05-06 12:51:00\n",
       "3       24980  C in a nutshell  2006-01-06 13:04:00  2006-01-27 11:49:00\n",
       "4       24980  C in a nutshell  2006-01-06 13:04:00  2006-01-30 18:46:00"
      ]
     },
     "execution_count": 90,
     "metadata": {},
     "output_type": "execute_result"
    }
   ],
   "source": [
    "df.head()"
   ]
  },
  {
   "cell_type": "code",
   "execution_count": 91,
   "metadata": {
    "ExecuteTime": {
     "end_time": "2018-02-24T21:32:11.318759Z",
     "start_time": "2018-02-24T21:32:11.090581Z"
    },
    "collapsed": true
   },
   "outputs": [],
   "source": [
    "return_group=df.groupby('itemNumber').apply(lambda group: group.iloc[1:])"
   ]
  },
  {
   "cell_type": "code",
   "execution_count": 92,
   "metadata": {
    "ExecuteTime": {
     "end_time": "2018-02-24T21:32:11.328479Z",
     "start_time": "2018-02-24T21:32:11.320739Z"
    }
   },
   "outputs": [
    {
     "data": {
      "text/html": [
       "<div>\n",
       "<style>\n",
       "    .dataframe thead tr:only-child th {\n",
       "        text-align: right;\n",
       "    }\n",
       "\n",
       "    .dataframe thead th {\n",
       "        text-align: left;\n",
       "    }\n",
       "\n",
       "    .dataframe tbody tr th {\n",
       "        vertical-align: top;\n",
       "    }\n",
       "</style>\n",
       "<table border=\"1\" class=\"dataframe\">\n",
       "  <thead>\n",
       "    <tr style=\"text-align: right;\">\n",
       "      <th></th>\n",
       "      <th>itemNumber</th>\n",
       "      <th>title</th>\n",
       "      <th>cout</th>\n",
       "      <th>cin</th>\n",
       "    </tr>\n",
       "  </thead>\n",
       "  <tbody>\n",
       "    <tr>\n",
       "      <th>0</th>\n",
       "      <td>24804</td>\n",
       "      <td>C in a nutshell</td>\n",
       "      <td>2005-11-19 17:23:00</td>\n",
       "      <td>NaN</td>\n",
       "    </tr>\n",
       "    <tr>\n",
       "      <th>1</th>\n",
       "      <td>24804</td>\n",
       "      <td>C in a nutshell</td>\n",
       "      <td>2006-05-01 17:36:00</td>\n",
       "      <td>2006-01-31 15:25:00</td>\n",
       "    </tr>\n",
       "    <tr>\n",
       "      <th>2</th>\n",
       "      <td>24980</td>\n",
       "      <td>C in a nutshell</td>\n",
       "      <td>2006-01-06 13:04:00</td>\n",
       "      <td>2006-05-06 12:51:00</td>\n",
       "    </tr>\n",
       "    <tr>\n",
       "      <th>3</th>\n",
       "      <td>24980</td>\n",
       "      <td>C in a nutshell</td>\n",
       "      <td>2006-01-06 13:04:00</td>\n",
       "      <td>2006-01-27 11:49:00</td>\n",
       "    </tr>\n",
       "    <tr>\n",
       "      <th>4</th>\n",
       "      <td>24980</td>\n",
       "      <td>C in a nutshell</td>\n",
       "      <td>2006-01-06 13:04:00</td>\n",
       "      <td>2006-01-30 18:46:00</td>\n",
       "    </tr>\n",
       "  </tbody>\n",
       "</table>\n",
       "</div>"
      ],
      "text/plain": [
       "   itemNumber            title                 cout                  cin\n",
       "0       24804  C in a nutshell  2005-11-19 17:23:00                  NaN\n",
       "1       24804  C in a nutshell  2006-05-01 17:36:00  2006-01-31 15:25:00\n",
       "2       24980  C in a nutshell  2006-01-06 13:04:00  2006-05-06 12:51:00\n",
       "3       24980  C in a nutshell  2006-01-06 13:04:00  2006-01-27 11:49:00\n",
       "4       24980  C in a nutshell  2006-01-06 13:04:00  2006-01-30 18:46:00"
      ]
     },
     "execution_count": 92,
     "metadata": {},
     "output_type": "execute_result"
    }
   ],
   "source": [
    "df.head()"
   ]
  },
  {
   "cell_type": "code",
   "execution_count": 93,
   "metadata": {
    "ExecuteTime": {
     "end_time": "2018-02-24T21:32:11.356307Z",
     "start_time": "2018-02-24T21:32:11.329969Z"
    }
   },
   "outputs": [
    {
     "data": {
      "text/html": [
       "<div>\n",
       "<style>\n",
       "    .dataframe thead tr:only-child th {\n",
       "        text-align: right;\n",
       "    }\n",
       "\n",
       "    .dataframe thead th {\n",
       "        text-align: left;\n",
       "    }\n",
       "\n",
       "    .dataframe tbody tr th {\n",
       "        vertical-align: top;\n",
       "    }\n",
       "</style>\n",
       "<table border=\"1\" class=\"dataframe\">\n",
       "  <thead>\n",
       "    <tr style=\"text-align: right;\">\n",
       "      <th></th>\n",
       "      <th></th>\n",
       "      <th>itemNumber</th>\n",
       "      <th>title</th>\n",
       "      <th>cout</th>\n",
       "      <th>cin</th>\n",
       "    </tr>\n",
       "    <tr>\n",
       "      <th>itemNumber</th>\n",
       "      <th></th>\n",
       "      <th></th>\n",
       "      <th></th>\n",
       "      <th></th>\n",
       "      <th></th>\n",
       "    </tr>\n",
       "  </thead>\n",
       "  <tbody>\n",
       "    <tr>\n",
       "      <th>24804</th>\n",
       "      <th>1</th>\n",
       "      <td>24804</td>\n",
       "      <td>C in a nutshell</td>\n",
       "      <td>2006-05-01 17:36:00</td>\n",
       "      <td>2006-01-31 15:25:00</td>\n",
       "    </tr>\n",
       "    <tr>\n",
       "      <th rowspan=\"9\" valign=\"top\">24980</th>\n",
       "      <th>3</th>\n",
       "      <td>24980</td>\n",
       "      <td>C in a nutshell</td>\n",
       "      <td>2006-01-06 13:04:00</td>\n",
       "      <td>2006-01-27 11:49:00</td>\n",
       "    </tr>\n",
       "    <tr>\n",
       "      <th>4</th>\n",
       "      <td>24980</td>\n",
       "      <td>C in a nutshell</td>\n",
       "      <td>2006-01-06 13:04:00</td>\n",
       "      <td>2006-01-30 18:46:00</td>\n",
       "    </tr>\n",
       "    <tr>\n",
       "      <th>5</th>\n",
       "      <td>24980</td>\n",
       "      <td>C in a nutshell</td>\n",
       "      <td>2006-01-06 13:04:00</td>\n",
       "      <td>2006-02-01 16:43:00</td>\n",
       "    </tr>\n",
       "    <tr>\n",
       "      <th>6</th>\n",
       "      <td>24980</td>\n",
       "      <td>C in a nutshell</td>\n",
       "      <td>2006-01-06 13:04:00</td>\n",
       "      <td>2006-02-09 21:49:00</td>\n",
       "    </tr>\n",
       "    <tr>\n",
       "      <th>7</th>\n",
       "      <td>24980</td>\n",
       "      <td>C in a nutshell</td>\n",
       "      <td>2006-04-22 13:37:00</td>\n",
       "      <td>2006-02-10 10:06:00</td>\n",
       "    </tr>\n",
       "    <tr>\n",
       "      <th>8</th>\n",
       "      <td>24980</td>\n",
       "      <td>C in a nutshell</td>\n",
       "      <td>2006-04-22 13:37:00</td>\n",
       "      <td>2006-06-24 17:11:00</td>\n",
       "    </tr>\n",
       "    <tr>\n",
       "      <th>9</th>\n",
       "      <td>24980</td>\n",
       "      <td>C in a nutshell</td>\n",
       "      <td>2006-04-22 13:37:00</td>\n",
       "      <td>2006-06-28 17:05:00</td>\n",
       "    </tr>\n",
       "    <tr>\n",
       "      <th>10</th>\n",
       "      <td>24980</td>\n",
       "      <td>C in a nutshell</td>\n",
       "      <td>2006-06-29 15:39:00</td>\n",
       "      <td>2006-06-29 12:41:00</td>\n",
       "    </tr>\n",
       "    <tr>\n",
       "      <th>11</th>\n",
       "      <td>24980</td>\n",
       "      <td>C in a nutshell</td>\n",
       "      <td>2006-06-29 15:39:00</td>\n",
       "      <td>2006-07-03 15:39:00</td>\n",
       "    </tr>\n",
       "  </tbody>\n",
       "</table>\n",
       "</div>"
      ],
      "text/plain": [
       "               itemNumber            title                 cout  \\\n",
       "itemNumber                                                        \n",
       "24804      1        24804  C in a nutshell  2006-05-01 17:36:00   \n",
       "24980      3        24980  C in a nutshell  2006-01-06 13:04:00   \n",
       "           4        24980  C in a nutshell  2006-01-06 13:04:00   \n",
       "           5        24980  C in a nutshell  2006-01-06 13:04:00   \n",
       "           6        24980  C in a nutshell  2006-01-06 13:04:00   \n",
       "           7        24980  C in a nutshell  2006-04-22 13:37:00   \n",
       "           8        24980  C in a nutshell  2006-04-22 13:37:00   \n",
       "           9        24980  C in a nutshell  2006-04-22 13:37:00   \n",
       "           10       24980  C in a nutshell  2006-06-29 15:39:00   \n",
       "           11       24980  C in a nutshell  2006-06-29 15:39:00   \n",
       "\n",
       "                               cin  \n",
       "itemNumber                          \n",
       "24804      1   2006-01-31 15:25:00  \n",
       "24980      3   2006-01-27 11:49:00  \n",
       "           4   2006-01-30 18:46:00  \n",
       "           5   2006-02-01 16:43:00  \n",
       "           6   2006-02-09 21:49:00  \n",
       "           7   2006-02-10 10:06:00  \n",
       "           8   2006-06-24 17:11:00  \n",
       "           9   2006-06-28 17:05:00  \n",
       "           10  2006-06-29 12:41:00  \n",
       "           11  2006-07-03 15:39:00  "
      ]
     },
     "execution_count": 93,
     "metadata": {},
     "output_type": "execute_result"
    }
   ],
   "source": [
    "return_group.head(10)"
   ]
  },
  {
   "cell_type": "code",
   "execution_count": 94,
   "metadata": {
    "ExecuteTime": {
     "end_time": "2018-02-24T21:32:11.367617Z",
     "start_time": "2018-02-24T21:32:11.357750Z"
    },
    "collapsed": true
   },
   "outputs": [],
   "source": [
    "import datetime"
   ]
  },
  {
   "cell_type": "code",
   "execution_count": 95,
   "metadata": {
    "ExecuteTime": {
     "end_time": "2018-02-24T21:32:11.380865Z",
     "start_time": "2018-02-24T21:32:11.369466Z"
    },
    "collapsed": true
   },
   "outputs": [],
   "source": [
    "def f(string):\n",
    "    return datetime.datetime.strptime(string, '%Y-%m-%d %H:%M:%S')"
   ]
  },
  {
   "cell_type": "code",
   "execution_count": 96,
   "metadata": {
    "ExecuteTime": {
     "end_time": "2018-02-24T21:32:11.838266Z",
     "start_time": "2018-02-24T21:32:11.382666Z"
    },
    "collapsed": true
   },
   "outputs": [],
   "source": [
    "return_group['cout_date']= return_group['cout'].apply(f)\n",
    "return_group['cin_date']= return_group['cin'].apply(f)"
   ]
  },
  {
   "cell_type": "code",
   "execution_count": 97,
   "metadata": {
    "ExecuteTime": {
     "end_time": "2018-02-24T21:32:11.846944Z",
     "start_time": "2018-02-24T21:32:11.840059Z"
    },
    "collapsed": true
   },
   "outputs": [],
   "source": [
    "return_group['time_diff_date']= return_group['cout_date']- return_group['cin_date']"
   ]
  },
  {
   "cell_type": "code",
   "execution_count": 98,
   "metadata": {
    "ExecuteTime": {
     "end_time": "2018-02-24T21:32:11.871756Z",
     "start_time": "2018-02-24T21:32:11.848619Z"
    }
   },
   "outputs": [
    {
     "data": {
      "text/html": [
       "<div>\n",
       "<style>\n",
       "    .dataframe thead tr:only-child th {\n",
       "        text-align: right;\n",
       "    }\n",
       "\n",
       "    .dataframe thead th {\n",
       "        text-align: left;\n",
       "    }\n",
       "\n",
       "    .dataframe tbody tr th {\n",
       "        vertical-align: top;\n",
       "    }\n",
       "</style>\n",
       "<table border=\"1\" class=\"dataframe\">\n",
       "  <thead>\n",
       "    <tr style=\"text-align: right;\">\n",
       "      <th></th>\n",
       "      <th></th>\n",
       "      <th>itemNumber</th>\n",
       "      <th>title</th>\n",
       "      <th>cout</th>\n",
       "      <th>cin</th>\n",
       "      <th>cout_date</th>\n",
       "      <th>cin_date</th>\n",
       "      <th>time_diff_date</th>\n",
       "    </tr>\n",
       "    <tr>\n",
       "      <th>itemNumber</th>\n",
       "      <th></th>\n",
       "      <th></th>\n",
       "      <th></th>\n",
       "      <th></th>\n",
       "      <th></th>\n",
       "      <th></th>\n",
       "      <th></th>\n",
       "      <th></th>\n",
       "    </tr>\n",
       "  </thead>\n",
       "  <tbody>\n",
       "    <tr>\n",
       "      <th>24804</th>\n",
       "      <th>1</th>\n",
       "      <td>24804</td>\n",
       "      <td>C in a nutshell</td>\n",
       "      <td>2006-05-01 17:36:00</td>\n",
       "      <td>2006-01-31 15:25:00</td>\n",
       "      <td>2006-05-01 17:36:00</td>\n",
       "      <td>2006-01-31 15:25:00</td>\n",
       "      <td>90 days 02:11:00</td>\n",
       "    </tr>\n",
       "    <tr>\n",
       "      <th rowspan=\"4\" valign=\"top\">24980</th>\n",
       "      <th>3</th>\n",
       "      <td>24980</td>\n",
       "      <td>C in a nutshell</td>\n",
       "      <td>2006-01-06 13:04:00</td>\n",
       "      <td>2006-01-27 11:49:00</td>\n",
       "      <td>2006-01-06 13:04:00</td>\n",
       "      <td>2006-01-27 11:49:00</td>\n",
       "      <td>-21 days +01:15:00</td>\n",
       "    </tr>\n",
       "    <tr>\n",
       "      <th>4</th>\n",
       "      <td>24980</td>\n",
       "      <td>C in a nutshell</td>\n",
       "      <td>2006-01-06 13:04:00</td>\n",
       "      <td>2006-01-30 18:46:00</td>\n",
       "      <td>2006-01-06 13:04:00</td>\n",
       "      <td>2006-01-30 18:46:00</td>\n",
       "      <td>-25 days +18:18:00</td>\n",
       "    </tr>\n",
       "    <tr>\n",
       "      <th>5</th>\n",
       "      <td>24980</td>\n",
       "      <td>C in a nutshell</td>\n",
       "      <td>2006-01-06 13:04:00</td>\n",
       "      <td>2006-02-01 16:43:00</td>\n",
       "      <td>2006-01-06 13:04:00</td>\n",
       "      <td>2006-02-01 16:43:00</td>\n",
       "      <td>-27 days +20:21:00</td>\n",
       "    </tr>\n",
       "    <tr>\n",
       "      <th>6</th>\n",
       "      <td>24980</td>\n",
       "      <td>C in a nutshell</td>\n",
       "      <td>2006-01-06 13:04:00</td>\n",
       "      <td>2006-02-09 21:49:00</td>\n",
       "      <td>2006-01-06 13:04:00</td>\n",
       "      <td>2006-02-09 21:49:00</td>\n",
       "      <td>-35 days +15:15:00</td>\n",
       "    </tr>\n",
       "  </tbody>\n",
       "</table>\n",
       "</div>"
      ],
      "text/plain": [
       "              itemNumber            title                 cout  \\\n",
       "itemNumber                                                       \n",
       "24804      1       24804  C in a nutshell  2006-05-01 17:36:00   \n",
       "24980      3       24980  C in a nutshell  2006-01-06 13:04:00   \n",
       "           4       24980  C in a nutshell  2006-01-06 13:04:00   \n",
       "           5       24980  C in a nutshell  2006-01-06 13:04:00   \n",
       "           6       24980  C in a nutshell  2006-01-06 13:04:00   \n",
       "\n",
       "                              cin           cout_date            cin_date  \\\n",
       "itemNumber                                                                  \n",
       "24804      1  2006-01-31 15:25:00 2006-05-01 17:36:00 2006-01-31 15:25:00   \n",
       "24980      3  2006-01-27 11:49:00 2006-01-06 13:04:00 2006-01-27 11:49:00   \n",
       "           4  2006-01-30 18:46:00 2006-01-06 13:04:00 2006-01-30 18:46:00   \n",
       "           5  2006-02-01 16:43:00 2006-01-06 13:04:00 2006-02-01 16:43:00   \n",
       "           6  2006-02-09 21:49:00 2006-01-06 13:04:00 2006-02-09 21:49:00   \n",
       "\n",
       "                 time_diff_date  \n",
       "itemNumber                       \n",
       "24804      1   90 days 02:11:00  \n",
       "24980      3 -21 days +01:15:00  \n",
       "           4 -25 days +18:18:00  \n",
       "           5 -27 days +20:21:00  \n",
       "           6 -35 days +15:15:00  "
      ]
     },
     "execution_count": 98,
     "metadata": {},
     "output_type": "execute_result"
    }
   ],
   "source": [
    "return_group.head()"
   ]
  },
  {
   "cell_type": "code",
   "execution_count": 99,
   "metadata": {
    "ExecuteTime": {
     "end_time": "2018-02-24T21:32:12.025438Z",
     "start_time": "2018-02-24T21:32:11.873513Z"
    },
    "collapsed": true
   },
   "outputs": [],
   "source": [
    "return_group['time_diff']= return_group['time_diff_date'].apply(lambda date: date.days)"
   ]
  },
  {
   "cell_type": "code",
   "execution_count": 100,
   "metadata": {
    "ExecuteTime": {
     "end_time": "2018-02-24T21:32:12.032942Z",
     "start_time": "2018-02-24T21:32:12.027296Z"
    },
    "collapsed": true
   },
   "outputs": [],
   "source": [
    "diff_df=return_group[return_group.time_diff > 0]"
   ]
  },
  {
   "cell_type": "code",
   "execution_count": 101,
   "metadata": {
    "ExecuteTime": {
     "end_time": "2018-02-24T21:32:12.044634Z",
     "start_time": "2018-02-24T21:32:12.034435Z"
    },
    "collapsed": true
   },
   "outputs": [],
   "source": [
    "def frac_over(series):\n",
    "    over_sum =0\n",
    "    for s in series:\n",
    "        if s>90:\n",
    "            over_sum += 1\n",
    "    total = len(series)\n",
    "    return over_sum/total"
   ]
  },
  {
   "cell_type": "code",
   "execution_count": 102,
   "metadata": {
    "ExecuteTime": {
     "end_time": "2018-02-24T21:32:12.068481Z",
     "start_time": "2018-02-24T21:32:12.047047Z"
    }
   },
   "outputs": [
    {
     "data": {
      "text/plain": [
       "0.12115490520022028"
      ]
     },
     "execution_count": 102,
     "metadata": {},
     "output_type": "execute_result"
    }
   ],
   "source": [
    "frac_over(diff_df.time_diff)"
   ]
  },
  {
   "cell_type": "code",
   "execution_count": 103,
   "metadata": {
    "ExecuteTime": {
     "end_time": "2018-02-24T21:32:12.087585Z",
     "start_time": "2018-02-24T21:32:12.069759Z"
    }
   },
   "outputs": [],
   "source": [
    "diff_df= diff_df[diff_df.time_diff < 90]"
   ]
  },
  {
   "cell_type": "code",
   "execution_count": 104,
   "metadata": {
    "ExecuteTime": {
     "end_time": "2018-02-24T21:32:12.101088Z",
     "start_time": "2018-02-24T21:32:12.088977Z"
    },
    "collapsed": true
   },
   "outputs": [],
   "source": [
    "def base_diff(string):\n",
    "    start= datetime.datetime(2006,1,1,0,0)\n",
    "    end = datetime.datetime.strptime(string, '%Y-%m-%d %H:%M:%S')\n",
    "    diff=end-start\n",
    "    return diff.days"
   ]
  },
  {
   "cell_type": "code",
   "execution_count": 105,
   "metadata": {
    "ExecuteTime": {
     "end_time": "2018-02-24T21:32:12.305529Z",
     "start_time": "2018-02-24T21:32:12.102667Z"
    },
    "collapsed": true
   },
   "outputs": [],
   "source": [
    "diff_df['time']= diff_df['cout'].apply(base_diff)"
   ]
  },
  {
   "cell_type": "code",
   "execution_count": 106,
   "metadata": {
    "ExecuteTime": {
     "end_time": "2018-02-24T21:32:12.325876Z",
     "start_time": "2018-02-24T21:32:12.306933Z"
    },
    "scrolled": true
   },
   "outputs": [
    {
     "data": {
      "text/html": [
       "<div>\n",
       "<style>\n",
       "    .dataframe thead tr:only-child th {\n",
       "        text-align: right;\n",
       "    }\n",
       "\n",
       "    .dataframe thead th {\n",
       "        text-align: left;\n",
       "    }\n",
       "\n",
       "    .dataframe tbody tr th {\n",
       "        vertical-align: top;\n",
       "    }\n",
       "</style>\n",
       "<table border=\"1\" class=\"dataframe\">\n",
       "  <thead>\n",
       "    <tr style=\"text-align: right;\">\n",
       "      <th></th>\n",
       "      <th></th>\n",
       "      <th>itemNumber</th>\n",
       "      <th>title</th>\n",
       "      <th>cout</th>\n",
       "      <th>cin</th>\n",
       "      <th>cout_date</th>\n",
       "      <th>cin_date</th>\n",
       "      <th>time_diff_date</th>\n",
       "      <th>time_diff</th>\n",
       "      <th>time</th>\n",
       "    </tr>\n",
       "    <tr>\n",
       "      <th>itemNumber</th>\n",
       "      <th></th>\n",
       "      <th></th>\n",
       "      <th></th>\n",
       "      <th></th>\n",
       "      <th></th>\n",
       "      <th></th>\n",
       "      <th></th>\n",
       "      <th></th>\n",
       "      <th></th>\n",
       "      <th></th>\n",
       "    </tr>\n",
       "  </thead>\n",
       "  <tbody>\n",
       "    <tr>\n",
       "      <th rowspan=\"5\" valign=\"top\">24980</th>\n",
       "      <th>7</th>\n",
       "      <td>24980</td>\n",
       "      <td>C in a nutshell</td>\n",
       "      <td>2006-04-22 13:37:00</td>\n",
       "      <td>2006-02-10 10:06:00</td>\n",
       "      <td>2006-04-22 13:37:00</td>\n",
       "      <td>2006-02-10 10:06:00</td>\n",
       "      <td>71 days 03:31:00</td>\n",
       "      <td>71</td>\n",
       "      <td>111</td>\n",
       "    </tr>\n",
       "    <tr>\n",
       "      <th>12</th>\n",
       "      <td>24980</td>\n",
       "      <td>C in a nutshell</td>\n",
       "      <td>2006-07-08 17:55:00</td>\n",
       "      <td>2006-07-07 11:52:00</td>\n",
       "      <td>2006-07-08 17:55:00</td>\n",
       "      <td>2006-07-07 11:52:00</td>\n",
       "      <td>1 days 06:03:00</td>\n",
       "      <td>1</td>\n",
       "      <td>188</td>\n",
       "    </tr>\n",
       "    <tr>\n",
       "      <th>15</th>\n",
       "      <td>24980</td>\n",
       "      <td>C in a nutshell</td>\n",
       "      <td>2006-08-19 12:29:00</td>\n",
       "      <td>2006-08-14 12:43:00</td>\n",
       "      <td>2006-08-19 12:29:00</td>\n",
       "      <td>2006-08-14 12:43:00</td>\n",
       "      <td>4 days 23:46:00</td>\n",
       "      <td>4</td>\n",
       "      <td>230</td>\n",
       "    </tr>\n",
       "    <tr>\n",
       "      <th>17</th>\n",
       "      <td>24980</td>\n",
       "      <td>C in a nutshell</td>\n",
       "      <td>2006-09-02 17:46:00</td>\n",
       "      <td>2006-09-01 10:38:00</td>\n",
       "      <td>2006-09-02 17:46:00</td>\n",
       "      <td>2006-09-01 10:38:00</td>\n",
       "      <td>1 days 07:08:00</td>\n",
       "      <td>1</td>\n",
       "      <td>244</td>\n",
       "    </tr>\n",
       "    <tr>\n",
       "      <th>21</th>\n",
       "      <td>24980</td>\n",
       "      <td>C in a nutshell</td>\n",
       "      <td>2006-11-15 18:53:00</td>\n",
       "      <td>2006-11-13 13:16:00</td>\n",
       "      <td>2006-11-15 18:53:00</td>\n",
       "      <td>2006-11-13 13:16:00</td>\n",
       "      <td>2 days 05:37:00</td>\n",
       "      <td>2</td>\n",
       "      <td>318</td>\n",
       "    </tr>\n",
       "  </tbody>\n",
       "</table>\n",
       "</div>"
      ],
      "text/plain": [
       "               itemNumber            title                 cout  \\\n",
       "itemNumber                                                        \n",
       "24980      7        24980  C in a nutshell  2006-04-22 13:37:00   \n",
       "           12       24980  C in a nutshell  2006-07-08 17:55:00   \n",
       "           15       24980  C in a nutshell  2006-08-19 12:29:00   \n",
       "           17       24980  C in a nutshell  2006-09-02 17:46:00   \n",
       "           21       24980  C in a nutshell  2006-11-15 18:53:00   \n",
       "\n",
       "                               cin           cout_date            cin_date  \\\n",
       "itemNumber                                                                   \n",
       "24980      7   2006-02-10 10:06:00 2006-04-22 13:37:00 2006-02-10 10:06:00   \n",
       "           12  2006-07-07 11:52:00 2006-07-08 17:55:00 2006-07-07 11:52:00   \n",
       "           15  2006-08-14 12:43:00 2006-08-19 12:29:00 2006-08-14 12:43:00   \n",
       "           17  2006-09-01 10:38:00 2006-09-02 17:46:00 2006-09-01 10:38:00   \n",
       "           21  2006-11-13 13:16:00 2006-11-15 18:53:00 2006-11-13 13:16:00   \n",
       "\n",
       "                time_diff_date  time_diff  time  \n",
       "itemNumber                                       \n",
       "24980      7  71 days 03:31:00         71   111  \n",
       "           12  1 days 06:03:00          1   188  \n",
       "           15  4 days 23:46:00          4   230  \n",
       "           17  1 days 07:08:00          1   244  \n",
       "           21  2 days 05:37:00          2   318  "
      ]
     },
     "execution_count": 106,
     "metadata": {},
     "output_type": "execute_result"
    }
   ],
   "source": [
    "diff_df.head()"
   ]
  },
  {
   "cell_type": "code",
   "execution_count": 107,
   "metadata": {
    "ExecuteTime": {
     "end_time": "2018-02-24T21:32:12.342798Z",
     "start_time": "2018-02-24T21:32:12.328178Z"
    }
   },
   "outputs": [
    {
     "data": {
      "text/plain": [
       "4381"
      ]
     },
     "execution_count": 107,
     "metadata": {},
     "output_type": "execute_result"
    },
    {
     "data": {
      "text/plain": [
       "(3238079, 11559)"
      ]
     },
     "execution_count": 107,
     "metadata": {},
     "output_type": "execute_result"
    },
    {
     "data": {
      "text/plain": [
       "(11146, 9)"
      ]
     },
     "execution_count": 107,
     "metadata": {},
     "output_type": "execute_result"
    }
   ],
   "source": [
    "diff_df['time'].max()\n",
    "diff_df['time'].argmax()\n",
    "diff_df.shape"
   ]
  },
  {
   "cell_type": "code",
   "execution_count": 108,
   "metadata": {
    "ExecuteTime": {
     "end_time": "2018-02-24T21:32:12.356364Z",
     "start_time": "2018-02-24T21:32:12.344773Z"
    },
    "collapsed": true
   },
   "outputs": [],
   "source": [
    "import numpy as np"
   ]
  },
  {
   "cell_type": "code",
   "execution_count": 109,
   "metadata": {
    "ExecuteTime": {
     "end_time": "2018-02-24T21:32:12.374749Z",
     "start_time": "2018-02-24T21:32:12.358175Z"
    }
   },
   "outputs": [
    {
     "data": {
      "text/plain": [
       "4433"
      ]
     },
     "execution_count": 109,
     "metadata": {},
     "output_type": "execute_result"
    }
   ],
   "source": [
    "indicator_diff = datetime.datetime(2018,2,20,0,0)-datetime.datetime(2006,1,1,0,0)\n",
    "indicator_diff.days"
   ]
  },
  {
   "cell_type": "code",
   "execution_count": 110,
   "metadata": {
    "ExecuteTime": {
     "end_time": "2018-02-24T21:32:12.391948Z",
     "start_time": "2018-02-24T21:32:12.376615Z"
    },
    "collapsed": true
   },
   "outputs": [],
   "source": [
    "def times():\n",
    "    indicator_array=np.zeros(4500)\n",
    "    for i,time in enumerate(diff_df.time):\n",
    "        indicator_array[time] += diff_df[\"time_diff\"][i]\n",
    "    return indicator_array"
   ]
  },
  {
   "cell_type": "code",
   "execution_count": 111,
   "metadata": {
    "ExecuteTime": {
     "end_time": "2018-02-24T21:32:12.672566Z",
     "start_time": "2018-02-24T21:32:12.393426Z"
    }
   },
   "outputs": [
    {
     "data": {
      "text/plain": [
       "47.086888888888886"
      ]
     },
     "execution_count": 111,
     "metadata": {},
     "output_type": "execute_result"
    }
   ],
   "source": [
    "test_array= times()\n",
    "test_array.mean()"
   ]
  },
  {
   "cell_type": "code",
   "execution_count": 112,
   "metadata": {
    "ExecuteTime": {
     "end_time": "2018-02-24T21:32:12.678696Z",
     "start_time": "2018-02-24T21:32:12.674547Z"
    },
    "collapsed": true
   },
   "outputs": [],
   "source": [
    "def fill_in():\n",
    "    a=np.zeros(4500)\n",
    "    for time in diff_df.time:\n",
    "        a[time] +=1\n",
    "    return a"
   ]
  },
  {
   "cell_type": "code",
   "execution_count": 113,
   "metadata": {
    "ExecuteTime": {
     "end_time": "2018-02-24T21:32:12.699188Z",
     "start_time": "2018-02-24T21:32:12.680154Z"
    }
   },
   "outputs": [],
   "source": [
    "test_ones=fill_in()"
   ]
  },
  {
   "cell_type": "code",
   "execution_count": 114,
   "metadata": {
    "ExecuteTime": {
     "end_time": "2018-02-24T21:32:12.715950Z",
     "start_time": "2018-02-24T21:32:12.700537Z"
    }
   },
   "outputs": [
    {
     "data": {
      "text/plain": [
       "2.4768888888888889"
      ]
     },
     "execution_count": 114,
     "metadata": {},
     "output_type": "execute_result"
    }
   ],
   "source": [
    "test_ones.mean()"
   ]
  },
  {
   "cell_type": "code",
   "execution_count": 115,
   "metadata": {
    "ExecuteTime": {
     "end_time": "2018-02-24T21:32:12.732451Z",
     "start_time": "2018-02-24T21:32:12.717291Z"
    }
   },
   "outputs": [
    {
     "data": {
      "text/plain": [
       "1598767"
      ]
     },
     "execution_count": 115,
     "metadata": {},
     "output_type": "execute_result"
    }
   ],
   "source": [
    "return_group.memory_usage(index=True).sum()"
   ]
  },
  {
   "cell_type": "code",
   "execution_count": 116,
   "metadata": {
    "ExecuteTime": {
     "end_time": "2018-02-24T21:32:12.750384Z",
     "start_time": "2018-02-24T21:32:12.734290Z"
    }
   },
   "outputs": [
    {
     "name": "stderr",
     "output_type": "stream",
     "text": [
      "/opt/anaconda/lib/python3.6/site-packages/ipykernel_launcher.py:1: RuntimeWarning: invalid value encountered in true_divide\n",
      "  \"\"\"Entry point for launching an IPython kernel.\n"
     ]
    },
    {
     "data": {
      "text/plain": [
       "array([ nan,  nan,  nan, ...,  nan,  nan,  nan])"
      ]
     },
     "execution_count": 116,
     "metadata": {},
     "output_type": "execute_result"
    }
   ],
   "source": [
    "test_array/test_ones"
   ]
  },
  {
   "cell_type": "code",
   "execution_count": 117,
   "metadata": {
    "ExecuteTime": {
     "end_time": "2018-02-24T21:32:12.767672Z",
     "start_time": "2018-02-24T21:32:12.752037Z"
    }
   },
   "outputs": [
    {
     "data": {
      "text/plain": [
       "47.086888888888886"
      ]
     },
     "execution_count": 117,
     "metadata": {},
     "output_type": "execute_result"
    }
   ],
   "source": [
    "test_array.mean()"
   ]
  },
  {
   "cell_type": "code",
   "execution_count": 118,
   "metadata": {
    "ExecuteTime": {
     "end_time": "2018-02-24T21:32:12.784036Z",
     "start_time": "2018-02-24T21:32:12.769023Z"
    }
   },
   "outputs": [
    {
     "name": "stderr",
     "output_type": "stream",
     "text": [
      "/opt/anaconda/lib/python3.6/site-packages/ipykernel_launcher.py:1: RuntimeWarning: divide by zero encountered in true_divide\n",
      "  \"\"\"Entry point for launching an IPython kernel.\n"
     ]
    },
    {
     "data": {
      "text/plain": [
       "array([  1.,  inf,  inf])"
      ]
     },
     "execution_count": 118,
     "metadata": {},
     "output_type": "execute_result"
    }
   ],
   "source": [
    "np.array([1,2,3])/np.array([1,0,0])"
   ]
  },
  {
   "cell_type": "code",
   "execution_count": 119,
   "metadata": {
    "ExecuteTime": {
     "end_time": "2018-02-24T21:32:12.797100Z",
     "start_time": "2018-02-24T21:32:12.785972Z"
    },
    "collapsed": true
   },
   "outputs": [],
   "source": [
    "test_final=np.divide(test_array, test_ones, \n",
    "                     out=np.zeros_like(test_array), where=(test_ones!=0))"
   ]
  },
  {
   "cell_type": "code",
   "execution_count": 120,
   "metadata": {
    "ExecuteTime": {
     "end_time": "2018-02-24T21:32:12.812994Z",
     "start_time": "2018-02-24T21:32:12.798866Z"
    }
   },
   "outputs": [
    {
     "data": {
      "text/plain": [
       "15.999445420628753"
      ]
     },
     "execution_count": 120,
     "metadata": {},
     "output_type": "execute_result"
    }
   ],
   "source": [
    "test_final.mean()"
   ]
  },
  {
   "cell_type": "code",
   "execution_count": null,
   "metadata": {
    "collapsed": true
   },
   "outputs": [],
   "source": []
  }
 ],
 "metadata": {
  "kernelspec": {
   "display_name": "Python 3",
   "language": "python",
   "name": "python3"
  },
  "language_info": {
   "codemirror_mode": {
    "name": "ipython",
    "version": 3
   },
   "file_extension": ".py",
   "mimetype": "text/x-python",
   "name": "python",
   "nbconvert_exporter": "python",
   "pygments_lexer": "ipython3",
   "version": "3.6.3"
  },
  "toc": {
   "nav_menu": {},
   "number_sections": true,
   "sideBar": true,
   "skip_h1_title": false,
   "toc_cell": false,
   "toc_position": {},
   "toc_section_display": "block",
   "toc_window_display": false
  },
  "varInspector": {
   "cols": {
    "lenName": 16,
    "lenType": 16,
    "lenVar": 40
   },
   "kernels_config": {
    "python": {
     "delete_cmd_postfix": "",
     "delete_cmd_prefix": "del ",
     "library": "var_list.py",
     "varRefreshCmd": "print(var_dic_list())"
    },
    "r": {
     "delete_cmd_postfix": ") ",
     "delete_cmd_prefix": "rm(",
     "library": "var_list.r",
     "varRefreshCmd": "cat(var_dic_list()) "
    }
   },
   "types_to_exclude": [
    "module",
    "function",
    "builtin_function_or_method",
    "instance",
    "_Feature"
   ],
   "window_display": false
  }
 },
 "nbformat": 4,
 "nbformat_minor": 2
}
