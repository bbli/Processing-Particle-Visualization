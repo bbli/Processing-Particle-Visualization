{
 "cells": [
  {
   "cell_type": "code",
   "execution_count": 151,
   "metadata": {
    "ExecuteTime": {
     "end_time": "2018-02-24T06:21:17.082869Z",
     "start_time": "2018-02-24T06:21:17.077987Z"
    },
    "collapsed": true
   },
   "outputs": [],
   "source": [
    "import pandas as pd\n",
    "import os\n",
    "import subprocess"
   ]
  },
  {
   "cell_type": "code",
   "execution_count": 152,
   "metadata": {
    "ExecuteTime": {
     "end_time": "2018-02-24T06:21:17.106211Z",
     "start_time": "2018-02-24T06:21:17.084433Z"
    }
   },
   "outputs": [
    {
     "data": {
      "text/plain": [
       "b'3d_visualization.ipynb\\nmachine_learning.csv\\nnetworking.csv\\nprogramming_languages.csv\\nsoftware.csv\\n'"
      ]
     },
     "execution_count": 152,
     "metadata": {},
     "output_type": "execute_result"
    }
   ],
   "source": [
    "subprocess.check_output('ls')"
   ]
  },
  {
   "cell_type": "code",
   "execution_count": 153,
   "metadata": {
    "ExecuteTime": {
     "end_time": "2018-02-24T06:21:17.141366Z",
     "start_time": "2018-02-24T06:21:17.108103Z"
    },
    "collapsed": true
   },
   "outputs": [],
   "source": [
    "df= pd.read_csv('/home/benson/Dropbox/Code/Projects/Mat259_3D/raw_data/programming_languages.csv')"
   ]
  },
  {
   "cell_type": "code",
   "execution_count": 154,
   "metadata": {
    "ExecuteTime": {
     "end_time": "2018-02-24T06:21:17.146926Z",
     "start_time": "2018-02-24T06:21:17.143009Z"
    }
   },
   "outputs": [
    {
     "data": {
      "text/plain": [
       "1116"
      ]
     },
     "execution_count": 154,
     "metadata": {},
     "output_type": "execute_result"
    }
   ],
   "source": [
    "len(list(df['itemNumber'].unique()))"
   ]
  },
  {
   "cell_type": "code",
   "execution_count": 155,
   "metadata": {
    "ExecuteTime": {
     "end_time": "2018-02-24T06:21:17.166532Z",
     "start_time": "2018-02-24T06:21:17.148317Z"
    }
   },
   "outputs": [
    {
     "data": {
      "text/html": [
       "<div>\n",
       "<style>\n",
       "    .dataframe thead tr:only-child th {\n",
       "        text-align: right;\n",
       "    }\n",
       "\n",
       "    .dataframe thead th {\n",
       "        text-align: left;\n",
       "    }\n",
       "\n",
       "    .dataframe tbody tr th {\n",
       "        vertical-align: top;\n",
       "    }\n",
       "</style>\n",
       "<table border=\"1\" class=\"dataframe\">\n",
       "  <thead>\n",
       "    <tr style=\"text-align: right;\">\n",
       "      <th></th>\n",
       "      <th>itemNumber</th>\n",
       "      <th>title</th>\n",
       "      <th>cout</th>\n",
       "      <th>cin</th>\n",
       "    </tr>\n",
       "  </thead>\n",
       "  <tbody>\n",
       "    <tr>\n",
       "      <th>0</th>\n",
       "      <td>24804</td>\n",
       "      <td>C in a nutshell</td>\n",
       "      <td>2005-11-19 17:23:00</td>\n",
       "      <td>2006-01-31 15:25:00</td>\n",
       "    </tr>\n",
       "    <tr>\n",
       "      <th>1</th>\n",
       "      <td>24804</td>\n",
       "      <td>C in a nutshell</td>\n",
       "      <td>2006-05-01 17:36:00</td>\n",
       "      <td>2006-05-06 12:51:00</td>\n",
       "    </tr>\n",
       "    <tr>\n",
       "      <th>2</th>\n",
       "      <td>24980</td>\n",
       "      <td>C in a nutshell</td>\n",
       "      <td>2006-01-06 13:04:00</td>\n",
       "      <td>2006-01-27 11:49:00</td>\n",
       "    </tr>\n",
       "    <tr>\n",
       "      <th>3</th>\n",
       "      <td>24980</td>\n",
       "      <td>C in a nutshell</td>\n",
       "      <td>2006-01-06 13:04:00</td>\n",
       "      <td>2006-01-30 18:46:00</td>\n",
       "    </tr>\n",
       "    <tr>\n",
       "      <th>4</th>\n",
       "      <td>24980</td>\n",
       "      <td>C in a nutshell</td>\n",
       "      <td>2006-01-06 13:04:00</td>\n",
       "      <td>2006-02-01 16:43:00</td>\n",
       "    </tr>\n",
       "    <tr>\n",
       "      <th>5</th>\n",
       "      <td>24980</td>\n",
       "      <td>C in a nutshell</td>\n",
       "      <td>2006-01-06 13:04:00</td>\n",
       "      <td>2006-02-09 21:49:00</td>\n",
       "    </tr>\n",
       "    <tr>\n",
       "      <th>6</th>\n",
       "      <td>24980</td>\n",
       "      <td>C in a nutshell</td>\n",
       "      <td>2006-01-06 13:04:00</td>\n",
       "      <td>2006-02-10 10:06:00</td>\n",
       "    </tr>\n",
       "    <tr>\n",
       "      <th>7</th>\n",
       "      <td>24980</td>\n",
       "      <td>C in a nutshell</td>\n",
       "      <td>2006-04-22 13:37:00</td>\n",
       "      <td>2006-06-24 17:11:00</td>\n",
       "    </tr>\n",
       "    <tr>\n",
       "      <th>8</th>\n",
       "      <td>24980</td>\n",
       "      <td>C in a nutshell</td>\n",
       "      <td>2006-04-22 13:37:00</td>\n",
       "      <td>2006-06-28 17:05:00</td>\n",
       "    </tr>\n",
       "    <tr>\n",
       "      <th>9</th>\n",
       "      <td>24980</td>\n",
       "      <td>C in a nutshell</td>\n",
       "      <td>2006-04-22 13:37:00</td>\n",
       "      <td>2006-06-29 12:41:00</td>\n",
       "    </tr>\n",
       "  </tbody>\n",
       "</table>\n",
       "</div>"
      ],
      "text/plain": [
       "   itemNumber            title                 cout                  cin\n",
       "0       24804  C in a nutshell  2005-11-19 17:23:00  2006-01-31 15:25:00\n",
       "1       24804  C in a nutshell  2006-05-01 17:36:00  2006-05-06 12:51:00\n",
       "2       24980  C in a nutshell  2006-01-06 13:04:00  2006-01-27 11:49:00\n",
       "3       24980  C in a nutshell  2006-01-06 13:04:00  2006-01-30 18:46:00\n",
       "4       24980  C in a nutshell  2006-01-06 13:04:00  2006-02-01 16:43:00\n",
       "5       24980  C in a nutshell  2006-01-06 13:04:00  2006-02-09 21:49:00\n",
       "6       24980  C in a nutshell  2006-01-06 13:04:00  2006-02-10 10:06:00\n",
       "7       24980  C in a nutshell  2006-04-22 13:37:00  2006-06-24 17:11:00\n",
       "8       24980  C in a nutshell  2006-04-22 13:37:00  2006-06-28 17:05:00\n",
       "9       24980  C in a nutshell  2006-04-22 13:37:00  2006-06-29 12:41:00"
      ]
     },
     "execution_count": 155,
     "metadata": {},
     "output_type": "execute_result"
    }
   ],
   "source": [
    "df.head(10)"
   ]
  },
  {
   "cell_type": "code",
   "execution_count": 156,
   "metadata": {
    "ExecuteTime": {
     "end_time": "2018-02-24T06:21:17.181414Z",
     "start_time": "2018-02-24T06:21:17.168074Z"
    }
   },
   "outputs": [],
   "source": [
    "df['cin']=df['cin'].shift(1)"
   ]
  },
  {
   "cell_type": "code",
   "execution_count": 157,
   "metadata": {
    "ExecuteTime": {
     "end_time": "2018-02-24T06:21:17.201626Z",
     "start_time": "2018-02-24T06:21:17.182989Z"
    }
   },
   "outputs": [
    {
     "data": {
      "text/html": [
       "<div>\n",
       "<style>\n",
       "    .dataframe thead tr:only-child th {\n",
       "        text-align: right;\n",
       "    }\n",
       "\n",
       "    .dataframe thead th {\n",
       "        text-align: left;\n",
       "    }\n",
       "\n",
       "    .dataframe tbody tr th {\n",
       "        vertical-align: top;\n",
       "    }\n",
       "</style>\n",
       "<table border=\"1\" class=\"dataframe\">\n",
       "  <thead>\n",
       "    <tr style=\"text-align: right;\">\n",
       "      <th></th>\n",
       "      <th>itemNumber</th>\n",
       "      <th>title</th>\n",
       "      <th>cout</th>\n",
       "      <th>cin</th>\n",
       "    </tr>\n",
       "  </thead>\n",
       "  <tbody>\n",
       "    <tr>\n",
       "      <th>0</th>\n",
       "      <td>24804</td>\n",
       "      <td>C in a nutshell</td>\n",
       "      <td>2005-11-19 17:23:00</td>\n",
       "      <td>NaN</td>\n",
       "    </tr>\n",
       "    <tr>\n",
       "      <th>1</th>\n",
       "      <td>24804</td>\n",
       "      <td>C in a nutshell</td>\n",
       "      <td>2006-05-01 17:36:00</td>\n",
       "      <td>2006-01-31 15:25:00</td>\n",
       "    </tr>\n",
       "    <tr>\n",
       "      <th>2</th>\n",
       "      <td>24980</td>\n",
       "      <td>C in a nutshell</td>\n",
       "      <td>2006-01-06 13:04:00</td>\n",
       "      <td>2006-05-06 12:51:00</td>\n",
       "    </tr>\n",
       "    <tr>\n",
       "      <th>3</th>\n",
       "      <td>24980</td>\n",
       "      <td>C in a nutshell</td>\n",
       "      <td>2006-01-06 13:04:00</td>\n",
       "      <td>2006-01-27 11:49:00</td>\n",
       "    </tr>\n",
       "    <tr>\n",
       "      <th>4</th>\n",
       "      <td>24980</td>\n",
       "      <td>C in a nutshell</td>\n",
       "      <td>2006-01-06 13:04:00</td>\n",
       "      <td>2006-01-30 18:46:00</td>\n",
       "    </tr>\n",
       "  </tbody>\n",
       "</table>\n",
       "</div>"
      ],
      "text/plain": [
       "   itemNumber            title                 cout                  cin\n",
       "0       24804  C in a nutshell  2005-11-19 17:23:00                  NaN\n",
       "1       24804  C in a nutshell  2006-05-01 17:36:00  2006-01-31 15:25:00\n",
       "2       24980  C in a nutshell  2006-01-06 13:04:00  2006-05-06 12:51:00\n",
       "3       24980  C in a nutshell  2006-01-06 13:04:00  2006-01-27 11:49:00\n",
       "4       24980  C in a nutshell  2006-01-06 13:04:00  2006-01-30 18:46:00"
      ]
     },
     "execution_count": 157,
     "metadata": {},
     "output_type": "execute_result"
    }
   ],
   "source": [
    "df.head()"
   ]
  },
  {
   "cell_type": "code",
   "execution_count": 158,
   "metadata": {
    "ExecuteTime": {
     "end_time": "2018-02-24T06:21:17.436848Z",
     "start_time": "2018-02-24T06:21:17.203137Z"
    }
   },
   "outputs": [],
   "source": [
    "return_group=df.groupby('itemNumber').apply(lambda group: group.iloc[1:])"
   ]
  },
  {
   "cell_type": "code",
   "execution_count": 159,
   "metadata": {
    "ExecuteTime": {
     "end_time": "2018-02-24T06:21:17.447250Z",
     "start_time": "2018-02-24T06:21:17.438463Z"
    }
   },
   "outputs": [
    {
     "data": {
      "text/html": [
       "<div>\n",
       "<style>\n",
       "    .dataframe thead tr:only-child th {\n",
       "        text-align: right;\n",
       "    }\n",
       "\n",
       "    .dataframe thead th {\n",
       "        text-align: left;\n",
       "    }\n",
       "\n",
       "    .dataframe tbody tr th {\n",
       "        vertical-align: top;\n",
       "    }\n",
       "</style>\n",
       "<table border=\"1\" class=\"dataframe\">\n",
       "  <thead>\n",
       "    <tr style=\"text-align: right;\">\n",
       "      <th></th>\n",
       "      <th>itemNumber</th>\n",
       "      <th>title</th>\n",
       "      <th>cout</th>\n",
       "      <th>cin</th>\n",
       "    </tr>\n",
       "  </thead>\n",
       "  <tbody>\n",
       "    <tr>\n",
       "      <th>0</th>\n",
       "      <td>24804</td>\n",
       "      <td>C in a nutshell</td>\n",
       "      <td>2005-11-19 17:23:00</td>\n",
       "      <td>NaN</td>\n",
       "    </tr>\n",
       "    <tr>\n",
       "      <th>1</th>\n",
       "      <td>24804</td>\n",
       "      <td>C in a nutshell</td>\n",
       "      <td>2006-05-01 17:36:00</td>\n",
       "      <td>2006-01-31 15:25:00</td>\n",
       "    </tr>\n",
       "    <tr>\n",
       "      <th>2</th>\n",
       "      <td>24980</td>\n",
       "      <td>C in a nutshell</td>\n",
       "      <td>2006-01-06 13:04:00</td>\n",
       "      <td>2006-05-06 12:51:00</td>\n",
       "    </tr>\n",
       "    <tr>\n",
       "      <th>3</th>\n",
       "      <td>24980</td>\n",
       "      <td>C in a nutshell</td>\n",
       "      <td>2006-01-06 13:04:00</td>\n",
       "      <td>2006-01-27 11:49:00</td>\n",
       "    </tr>\n",
       "    <tr>\n",
       "      <th>4</th>\n",
       "      <td>24980</td>\n",
       "      <td>C in a nutshell</td>\n",
       "      <td>2006-01-06 13:04:00</td>\n",
       "      <td>2006-01-30 18:46:00</td>\n",
       "    </tr>\n",
       "  </tbody>\n",
       "</table>\n",
       "</div>"
      ],
      "text/plain": [
       "   itemNumber            title                 cout                  cin\n",
       "0       24804  C in a nutshell  2005-11-19 17:23:00                  NaN\n",
       "1       24804  C in a nutshell  2006-05-01 17:36:00  2006-01-31 15:25:00\n",
       "2       24980  C in a nutshell  2006-01-06 13:04:00  2006-05-06 12:51:00\n",
       "3       24980  C in a nutshell  2006-01-06 13:04:00  2006-01-27 11:49:00\n",
       "4       24980  C in a nutshell  2006-01-06 13:04:00  2006-01-30 18:46:00"
      ]
     },
     "execution_count": 159,
     "metadata": {},
     "output_type": "execute_result"
    }
   ],
   "source": [
    "df.head()"
   ]
  },
  {
   "cell_type": "code",
   "execution_count": 160,
   "metadata": {
    "ExecuteTime": {
     "end_time": "2018-02-24T06:21:17.469750Z",
     "start_time": "2018-02-24T06:21:17.448843Z"
    }
   },
   "outputs": [
    {
     "data": {
      "text/html": [
       "<div>\n",
       "<style>\n",
       "    .dataframe thead tr:only-child th {\n",
       "        text-align: right;\n",
       "    }\n",
       "\n",
       "    .dataframe thead th {\n",
       "        text-align: left;\n",
       "    }\n",
       "\n",
       "    .dataframe tbody tr th {\n",
       "        vertical-align: top;\n",
       "    }\n",
       "</style>\n",
       "<table border=\"1\" class=\"dataframe\">\n",
       "  <thead>\n",
       "    <tr style=\"text-align: right;\">\n",
       "      <th></th>\n",
       "      <th></th>\n",
       "      <th>itemNumber</th>\n",
       "      <th>title</th>\n",
       "      <th>cout</th>\n",
       "      <th>cin</th>\n",
       "    </tr>\n",
       "    <tr>\n",
       "      <th>itemNumber</th>\n",
       "      <th></th>\n",
       "      <th></th>\n",
       "      <th></th>\n",
       "      <th></th>\n",
       "      <th></th>\n",
       "    </tr>\n",
       "  </thead>\n",
       "  <tbody>\n",
       "    <tr>\n",
       "      <th>24804</th>\n",
       "      <th>1</th>\n",
       "      <td>24804</td>\n",
       "      <td>C in a nutshell</td>\n",
       "      <td>2006-05-01 17:36:00</td>\n",
       "      <td>2006-01-31 15:25:00</td>\n",
       "    </tr>\n",
       "    <tr>\n",
       "      <th rowspan=\"9\" valign=\"top\">24980</th>\n",
       "      <th>3</th>\n",
       "      <td>24980</td>\n",
       "      <td>C in a nutshell</td>\n",
       "      <td>2006-01-06 13:04:00</td>\n",
       "      <td>2006-01-27 11:49:00</td>\n",
       "    </tr>\n",
       "    <tr>\n",
       "      <th>4</th>\n",
       "      <td>24980</td>\n",
       "      <td>C in a nutshell</td>\n",
       "      <td>2006-01-06 13:04:00</td>\n",
       "      <td>2006-01-30 18:46:00</td>\n",
       "    </tr>\n",
       "    <tr>\n",
       "      <th>5</th>\n",
       "      <td>24980</td>\n",
       "      <td>C in a nutshell</td>\n",
       "      <td>2006-01-06 13:04:00</td>\n",
       "      <td>2006-02-01 16:43:00</td>\n",
       "    </tr>\n",
       "    <tr>\n",
       "      <th>6</th>\n",
       "      <td>24980</td>\n",
       "      <td>C in a nutshell</td>\n",
       "      <td>2006-01-06 13:04:00</td>\n",
       "      <td>2006-02-09 21:49:00</td>\n",
       "    </tr>\n",
       "    <tr>\n",
       "      <th>7</th>\n",
       "      <td>24980</td>\n",
       "      <td>C in a nutshell</td>\n",
       "      <td>2006-04-22 13:37:00</td>\n",
       "      <td>2006-02-10 10:06:00</td>\n",
       "    </tr>\n",
       "    <tr>\n",
       "      <th>8</th>\n",
       "      <td>24980</td>\n",
       "      <td>C in a nutshell</td>\n",
       "      <td>2006-04-22 13:37:00</td>\n",
       "      <td>2006-06-24 17:11:00</td>\n",
       "    </tr>\n",
       "    <tr>\n",
       "      <th>9</th>\n",
       "      <td>24980</td>\n",
       "      <td>C in a nutshell</td>\n",
       "      <td>2006-04-22 13:37:00</td>\n",
       "      <td>2006-06-28 17:05:00</td>\n",
       "    </tr>\n",
       "    <tr>\n",
       "      <th>10</th>\n",
       "      <td>24980</td>\n",
       "      <td>C in a nutshell</td>\n",
       "      <td>2006-06-29 15:39:00</td>\n",
       "      <td>2006-06-29 12:41:00</td>\n",
       "    </tr>\n",
       "    <tr>\n",
       "      <th>11</th>\n",
       "      <td>24980</td>\n",
       "      <td>C in a nutshell</td>\n",
       "      <td>2006-06-29 15:39:00</td>\n",
       "      <td>2006-07-03 15:39:00</td>\n",
       "    </tr>\n",
       "  </tbody>\n",
       "</table>\n",
       "</div>"
      ],
      "text/plain": [
       "               itemNumber            title                 cout  \\\n",
       "itemNumber                                                        \n",
       "24804      1        24804  C in a nutshell  2006-05-01 17:36:00   \n",
       "24980      3        24980  C in a nutshell  2006-01-06 13:04:00   \n",
       "           4        24980  C in a nutshell  2006-01-06 13:04:00   \n",
       "           5        24980  C in a nutshell  2006-01-06 13:04:00   \n",
       "           6        24980  C in a nutshell  2006-01-06 13:04:00   \n",
       "           7        24980  C in a nutshell  2006-04-22 13:37:00   \n",
       "           8        24980  C in a nutshell  2006-04-22 13:37:00   \n",
       "           9        24980  C in a nutshell  2006-04-22 13:37:00   \n",
       "           10       24980  C in a nutshell  2006-06-29 15:39:00   \n",
       "           11       24980  C in a nutshell  2006-06-29 15:39:00   \n",
       "\n",
       "                               cin  \n",
       "itemNumber                          \n",
       "24804      1   2006-01-31 15:25:00  \n",
       "24980      3   2006-01-27 11:49:00  \n",
       "           4   2006-01-30 18:46:00  \n",
       "           5   2006-02-01 16:43:00  \n",
       "           6   2006-02-09 21:49:00  \n",
       "           7   2006-02-10 10:06:00  \n",
       "           8   2006-06-24 17:11:00  \n",
       "           9   2006-06-28 17:05:00  \n",
       "           10  2006-06-29 12:41:00  \n",
       "           11  2006-07-03 15:39:00  "
      ]
     },
     "execution_count": 160,
     "metadata": {},
     "output_type": "execute_result"
    }
   ],
   "source": [
    "return_group.head(10)"
   ]
  },
  {
   "cell_type": "code",
   "execution_count": 161,
   "metadata": {
    "ExecuteTime": {
     "end_time": "2018-02-24T06:21:17.479339Z",
     "start_time": "2018-02-24T06:21:17.471157Z"
    },
    "collapsed": true
   },
   "outputs": [],
   "source": [
    "import datetime"
   ]
  },
  {
   "cell_type": "code",
   "execution_count": 162,
   "metadata": {
    "ExecuteTime": {
     "end_time": "2018-02-24T06:21:17.493887Z",
     "start_time": "2018-02-24T06:21:17.480886Z"
    },
    "collapsed": true
   },
   "outputs": [],
   "source": [
    "start = datetime.datetime.strptime(a, '%Y-%m-%d %H:%M:%S')\n",
    "ends = datetime.datetime.strptime(b, '%Y-%m-%d %H:%M:%S')"
   ]
  },
  {
   "cell_type": "code",
   "execution_count": 163,
   "metadata": {
    "ExecuteTime": {
     "end_time": "2018-02-24T06:21:17.508633Z",
     "start_time": "2018-02-24T06:21:17.495668Z"
    }
   },
   "outputs": [
    {
     "data": {
      "text/plain": [
       "-91"
      ]
     },
     "execution_count": 163,
     "metadata": {},
     "output_type": "execute_result"
    }
   ],
   "source": [
    "diff= ends-start\n",
    "diff.days"
   ]
  },
  {
   "cell_type": "code",
   "execution_count": 164,
   "metadata": {
    "ExecuteTime": {
     "end_time": "2018-02-24T06:21:17.525371Z",
     "start_time": "2018-02-24T06:21:17.510404Z"
    },
    "collapsed": true
   },
   "outputs": [],
   "source": [
    "def f(string):\n",
    "    return datetime.datetime.strptime(string, '%Y-%m-%d %H:%M:%S')"
   ]
  },
  {
   "cell_type": "code",
   "execution_count": 165,
   "metadata": {
    "ExecuteTime": {
     "end_time": "2018-02-24T06:21:18.027444Z",
     "start_time": "2018-02-24T06:21:17.527067Z"
    },
    "collapsed": true
   },
   "outputs": [],
   "source": [
    "return_group['cout_date']= return_group['cout'].apply(f)\n",
    "return_group['cin_date']= return_group['cin'].apply(f)"
   ]
  },
  {
   "cell_type": "code",
   "execution_count": 166,
   "metadata": {
    "ExecuteTime": {
     "end_time": "2018-02-24T06:21:18.034364Z",
     "start_time": "2018-02-24T06:21:18.029096Z"
    },
    "collapsed": true
   },
   "outputs": [],
   "source": [
    "return_group['time_diff_date']= return_group['cout_date']- return_group['cin_date']"
   ]
  },
  {
   "cell_type": "code",
   "execution_count": 167,
   "metadata": {
    "ExecuteTime": {
     "end_time": "2018-02-24T06:21:18.061505Z",
     "start_time": "2018-02-24T06:21:18.036467Z"
    }
   },
   "outputs": [
    {
     "data": {
      "text/html": [
       "<div>\n",
       "<style>\n",
       "    .dataframe thead tr:only-child th {\n",
       "        text-align: right;\n",
       "    }\n",
       "\n",
       "    .dataframe thead th {\n",
       "        text-align: left;\n",
       "    }\n",
       "\n",
       "    .dataframe tbody tr th {\n",
       "        vertical-align: top;\n",
       "    }\n",
       "</style>\n",
       "<table border=\"1\" class=\"dataframe\">\n",
       "  <thead>\n",
       "    <tr style=\"text-align: right;\">\n",
       "      <th></th>\n",
       "      <th></th>\n",
       "      <th>itemNumber</th>\n",
       "      <th>title</th>\n",
       "      <th>cout</th>\n",
       "      <th>cin</th>\n",
       "      <th>cout_date</th>\n",
       "      <th>cin_date</th>\n",
       "      <th>time_diff_date</th>\n",
       "    </tr>\n",
       "    <tr>\n",
       "      <th>itemNumber</th>\n",
       "      <th></th>\n",
       "      <th></th>\n",
       "      <th></th>\n",
       "      <th></th>\n",
       "      <th></th>\n",
       "      <th></th>\n",
       "      <th></th>\n",
       "      <th></th>\n",
       "    </tr>\n",
       "  </thead>\n",
       "  <tbody>\n",
       "    <tr>\n",
       "      <th>24804</th>\n",
       "      <th>1</th>\n",
       "      <td>24804</td>\n",
       "      <td>C in a nutshell</td>\n",
       "      <td>2006-05-01 17:36:00</td>\n",
       "      <td>2006-01-31 15:25:00</td>\n",
       "      <td>2006-05-01 17:36:00</td>\n",
       "      <td>2006-01-31 15:25:00</td>\n",
       "      <td>90 days 02:11:00</td>\n",
       "    </tr>\n",
       "    <tr>\n",
       "      <th rowspan=\"4\" valign=\"top\">24980</th>\n",
       "      <th>3</th>\n",
       "      <td>24980</td>\n",
       "      <td>C in a nutshell</td>\n",
       "      <td>2006-01-06 13:04:00</td>\n",
       "      <td>2006-01-27 11:49:00</td>\n",
       "      <td>2006-01-06 13:04:00</td>\n",
       "      <td>2006-01-27 11:49:00</td>\n",
       "      <td>-21 days +01:15:00</td>\n",
       "    </tr>\n",
       "    <tr>\n",
       "      <th>4</th>\n",
       "      <td>24980</td>\n",
       "      <td>C in a nutshell</td>\n",
       "      <td>2006-01-06 13:04:00</td>\n",
       "      <td>2006-01-30 18:46:00</td>\n",
       "      <td>2006-01-06 13:04:00</td>\n",
       "      <td>2006-01-30 18:46:00</td>\n",
       "      <td>-25 days +18:18:00</td>\n",
       "    </tr>\n",
       "    <tr>\n",
       "      <th>5</th>\n",
       "      <td>24980</td>\n",
       "      <td>C in a nutshell</td>\n",
       "      <td>2006-01-06 13:04:00</td>\n",
       "      <td>2006-02-01 16:43:00</td>\n",
       "      <td>2006-01-06 13:04:00</td>\n",
       "      <td>2006-02-01 16:43:00</td>\n",
       "      <td>-27 days +20:21:00</td>\n",
       "    </tr>\n",
       "    <tr>\n",
       "      <th>6</th>\n",
       "      <td>24980</td>\n",
       "      <td>C in a nutshell</td>\n",
       "      <td>2006-01-06 13:04:00</td>\n",
       "      <td>2006-02-09 21:49:00</td>\n",
       "      <td>2006-01-06 13:04:00</td>\n",
       "      <td>2006-02-09 21:49:00</td>\n",
       "      <td>-35 days +15:15:00</td>\n",
       "    </tr>\n",
       "  </tbody>\n",
       "</table>\n",
       "</div>"
      ],
      "text/plain": [
       "              itemNumber            title                 cout  \\\n",
       "itemNumber                                                       \n",
       "24804      1       24804  C in a nutshell  2006-05-01 17:36:00   \n",
       "24980      3       24980  C in a nutshell  2006-01-06 13:04:00   \n",
       "           4       24980  C in a nutshell  2006-01-06 13:04:00   \n",
       "           5       24980  C in a nutshell  2006-01-06 13:04:00   \n",
       "           6       24980  C in a nutshell  2006-01-06 13:04:00   \n",
       "\n",
       "                              cin           cout_date            cin_date  \\\n",
       "itemNumber                                                                  \n",
       "24804      1  2006-01-31 15:25:00 2006-05-01 17:36:00 2006-01-31 15:25:00   \n",
       "24980      3  2006-01-27 11:49:00 2006-01-06 13:04:00 2006-01-27 11:49:00   \n",
       "           4  2006-01-30 18:46:00 2006-01-06 13:04:00 2006-01-30 18:46:00   \n",
       "           5  2006-02-01 16:43:00 2006-01-06 13:04:00 2006-02-01 16:43:00   \n",
       "           6  2006-02-09 21:49:00 2006-01-06 13:04:00 2006-02-09 21:49:00   \n",
       "\n",
       "                 time_diff_date  \n",
       "itemNumber                       \n",
       "24804      1   90 days 02:11:00  \n",
       "24980      3 -21 days +01:15:00  \n",
       "           4 -25 days +18:18:00  \n",
       "           5 -27 days +20:21:00  \n",
       "           6 -35 days +15:15:00  "
      ]
     },
     "execution_count": 167,
     "metadata": {},
     "output_type": "execute_result"
    }
   ],
   "source": [
    "return_group.head()"
   ]
  },
  {
   "cell_type": "code",
   "execution_count": 168,
   "metadata": {
    "ExecuteTime": {
     "end_time": "2018-02-24T06:21:18.231942Z",
     "start_time": "2018-02-24T06:21:18.063010Z"
    },
    "collapsed": true
   },
   "outputs": [],
   "source": [
    "return_group['time_diff']= return_group['time_diff_date'].apply(lambda date: date.days)"
   ]
  },
  {
   "cell_type": "code",
   "execution_count": 169,
   "metadata": {
    "ExecuteTime": {
     "end_time": "2018-02-24T06:21:18.239305Z",
     "start_time": "2018-02-24T06:21:18.233479Z"
    }
   },
   "outputs": [],
   "source": [
    "diff_df=return_group[return_group.time_diff > 0]"
   ]
  },
  {
   "cell_type": "code",
   "execution_count": 172,
   "metadata": {
    "ExecuteTime": {
     "end_time": "2018-02-24T06:21:18.510770Z",
     "start_time": "2018-02-24T06:21:18.505548Z"
    },
    "collapsed": true
   },
   "outputs": [],
   "source": [
    "def frac_over(series):\n",
    "    over_sum =0\n",
    "    for s in series:\n",
    "        if s>90:\n",
    "            over_sum += 1\n",
    "    total = len(series)\n",
    "    return over_sum/total"
   ]
  },
  {
   "cell_type": "code",
   "execution_count": 173,
   "metadata": {
    "ExecuteTime": {
     "end_time": "2018-02-24T06:21:18.528693Z",
     "start_time": "2018-02-24T06:21:18.512183Z"
    }
   },
   "outputs": [
    {
     "data": {
      "text/plain": [
       "0.12115490520022028"
      ]
     },
     "execution_count": 173,
     "metadata": {},
     "output_type": "execute_result"
    }
   ],
   "source": [
    "frac_over(diff_df.time_diff)"
   ]
  },
  {
   "cell_type": "code",
   "execution_count": 174,
   "metadata": {
    "ExecuteTime": {
     "end_time": "2018-02-24T06:21:18.549015Z",
     "start_time": "2018-02-24T06:21:18.530235Z"
    }
   },
   "outputs": [
    {
     "name": "stderr",
     "output_type": "stream",
     "text": [
      "/opt/anaconda/lib/python3.6/site-packages/ipykernel_launcher.py:1: UserWarning: Boolean Series key will be reindexed to match DataFrame index.\n",
      "  \"\"\"Entry point for launching an IPython kernel.\n"
     ]
    }
   ],
   "source": [
    "diff_df= diff_df[return_group.time_diff < 90]"
   ]
  },
  {
   "cell_type": "code",
   "execution_count": 179,
   "metadata": {
    "ExecuteTime": {
     "end_time": "2018-02-24T06:46:21.731420Z",
     "start_time": "2018-02-24T06:46:21.715993Z"
    },
    "collapsed": true
   },
   "outputs": [],
   "source": [
    "def base_diff(string):\n",
    "    start= datetime.datetime(2006,1,1,0,0)\n",
    "    end = datetime.datetime.strptime(string, '%Y-%m-%d %H:%M:%S')\n",
    "    diff=end-start\n",
    "    return diff.days"
   ]
  },
  {
   "cell_type": "code",
   "execution_count": 180,
   "metadata": {
    "ExecuteTime": {
     "end_time": "2018-02-24T06:47:12.695794Z",
     "start_time": "2018-02-24T06:47:12.502854Z"
    },
    "collapsed": true
   },
   "outputs": [],
   "source": [
    "diff_df['time']= diff_df['cout'].apply(base_diff)"
   ]
  },
  {
   "cell_type": "code",
   "execution_count": 181,
   "metadata": {
    "ExecuteTime": {
     "end_time": "2018-02-24T06:47:18.092266Z",
     "start_time": "2018-02-24T06:47:18.061639Z"
    },
    "scrolled": true
   },
   "outputs": [
    {
     "data": {
      "text/html": [
       "<div>\n",
       "<style>\n",
       "    .dataframe thead tr:only-child th {\n",
       "        text-align: right;\n",
       "    }\n",
       "\n",
       "    .dataframe thead th {\n",
       "        text-align: left;\n",
       "    }\n",
       "\n",
       "    .dataframe tbody tr th {\n",
       "        vertical-align: top;\n",
       "    }\n",
       "</style>\n",
       "<table border=\"1\" class=\"dataframe\">\n",
       "  <thead>\n",
       "    <tr style=\"text-align: right;\">\n",
       "      <th></th>\n",
       "      <th></th>\n",
       "      <th>itemNumber</th>\n",
       "      <th>title</th>\n",
       "      <th>cout</th>\n",
       "      <th>cin</th>\n",
       "      <th>cout_date</th>\n",
       "      <th>cin_date</th>\n",
       "      <th>time_diff_date</th>\n",
       "      <th>time_diff</th>\n",
       "      <th>time</th>\n",
       "    </tr>\n",
       "    <tr>\n",
       "      <th>itemNumber</th>\n",
       "      <th></th>\n",
       "      <th></th>\n",
       "      <th></th>\n",
       "      <th></th>\n",
       "      <th></th>\n",
       "      <th></th>\n",
       "      <th></th>\n",
       "      <th></th>\n",
       "      <th></th>\n",
       "      <th></th>\n",
       "    </tr>\n",
       "  </thead>\n",
       "  <tbody>\n",
       "    <tr>\n",
       "      <th rowspan=\"5\" valign=\"top\">24980</th>\n",
       "      <th>7</th>\n",
       "      <td>24980</td>\n",
       "      <td>C in a nutshell</td>\n",
       "      <td>2006-04-22 13:37:00</td>\n",
       "      <td>2006-02-10 10:06:00</td>\n",
       "      <td>2006-04-22 13:37:00</td>\n",
       "      <td>2006-02-10 10:06:00</td>\n",
       "      <td>71 days 03:31:00</td>\n",
       "      <td>71</td>\n",
       "      <td>111</td>\n",
       "    </tr>\n",
       "    <tr>\n",
       "      <th>12</th>\n",
       "      <td>24980</td>\n",
       "      <td>C in a nutshell</td>\n",
       "      <td>2006-07-08 17:55:00</td>\n",
       "      <td>2006-07-07 11:52:00</td>\n",
       "      <td>2006-07-08 17:55:00</td>\n",
       "      <td>2006-07-07 11:52:00</td>\n",
       "      <td>1 days 06:03:00</td>\n",
       "      <td>1</td>\n",
       "      <td>188</td>\n",
       "    </tr>\n",
       "    <tr>\n",
       "      <th>15</th>\n",
       "      <td>24980</td>\n",
       "      <td>C in a nutshell</td>\n",
       "      <td>2006-08-19 12:29:00</td>\n",
       "      <td>2006-08-14 12:43:00</td>\n",
       "      <td>2006-08-19 12:29:00</td>\n",
       "      <td>2006-08-14 12:43:00</td>\n",
       "      <td>4 days 23:46:00</td>\n",
       "      <td>4</td>\n",
       "      <td>230</td>\n",
       "    </tr>\n",
       "    <tr>\n",
       "      <th>17</th>\n",
       "      <td>24980</td>\n",
       "      <td>C in a nutshell</td>\n",
       "      <td>2006-09-02 17:46:00</td>\n",
       "      <td>2006-09-01 10:38:00</td>\n",
       "      <td>2006-09-02 17:46:00</td>\n",
       "      <td>2006-09-01 10:38:00</td>\n",
       "      <td>1 days 07:08:00</td>\n",
       "      <td>1</td>\n",
       "      <td>244</td>\n",
       "    </tr>\n",
       "    <tr>\n",
       "      <th>21</th>\n",
       "      <td>24980</td>\n",
       "      <td>C in a nutshell</td>\n",
       "      <td>2006-11-15 18:53:00</td>\n",
       "      <td>2006-11-13 13:16:00</td>\n",
       "      <td>2006-11-15 18:53:00</td>\n",
       "      <td>2006-11-13 13:16:00</td>\n",
       "      <td>2 days 05:37:00</td>\n",
       "      <td>2</td>\n",
       "      <td>318</td>\n",
       "    </tr>\n",
       "  </tbody>\n",
       "</table>\n",
       "</div>"
      ],
      "text/plain": [
       "               itemNumber            title                 cout  \\\n",
       "itemNumber                                                        \n",
       "24980      7        24980  C in a nutshell  2006-04-22 13:37:00   \n",
       "           12       24980  C in a nutshell  2006-07-08 17:55:00   \n",
       "           15       24980  C in a nutshell  2006-08-19 12:29:00   \n",
       "           17       24980  C in a nutshell  2006-09-02 17:46:00   \n",
       "           21       24980  C in a nutshell  2006-11-15 18:53:00   \n",
       "\n",
       "                               cin           cout_date            cin_date  \\\n",
       "itemNumber                                                                   \n",
       "24980      7   2006-02-10 10:06:00 2006-04-22 13:37:00 2006-02-10 10:06:00   \n",
       "           12  2006-07-07 11:52:00 2006-07-08 17:55:00 2006-07-07 11:52:00   \n",
       "           15  2006-08-14 12:43:00 2006-08-19 12:29:00 2006-08-14 12:43:00   \n",
       "           17  2006-09-01 10:38:00 2006-09-02 17:46:00 2006-09-01 10:38:00   \n",
       "           21  2006-11-13 13:16:00 2006-11-15 18:53:00 2006-11-13 13:16:00   \n",
       "\n",
       "                time_diff_date  time_diff  time  \n",
       "itemNumber                                       \n",
       "24980      7  71 days 03:31:00         71   111  \n",
       "           12  1 days 06:03:00          1   188  \n",
       "           15  4 days 23:46:00          4   230  \n",
       "           17  1 days 07:08:00          1   244  \n",
       "           21  2 days 05:37:00          2   318  "
      ]
     },
     "execution_count": 181,
     "metadata": {},
     "output_type": "execute_result"
    }
   ],
   "source": [
    "diff_df.head()"
   ]
  },
  {
   "cell_type": "code",
   "execution_count": 184,
   "metadata": {
    "ExecuteTime": {
     "end_time": "2018-02-24T06:49:14.350735Z",
     "start_time": "2018-02-24T06:49:14.335124Z"
    }
   },
   "outputs": [
    {
     "data": {
      "text/plain": [
       "4381"
      ]
     },
     "execution_count": 184,
     "metadata": {},
     "output_type": "execute_result"
    },
    {
     "data": {
      "text/plain": [
       "(3238079, 11559)"
      ]
     },
     "execution_count": 184,
     "metadata": {},
     "output_type": "execute_result"
    },
    {
     "data": {
      "text/plain": [
       "(11146, 9)"
      ]
     },
     "execution_count": 184,
     "metadata": {},
     "output_type": "execute_result"
    }
   ],
   "source": [
    "diff_df['time'].max()\n",
    "diff_df['time'].argmax()\n",
    "diff_df.shape"
   ]
  },
  {
   "cell_type": "code",
   "execution_count": 186,
   "metadata": {
    "ExecuteTime": {
     "end_time": "2018-02-24T06:52:50.013800Z",
     "start_time": "2018-02-24T06:52:49.878111Z"
    },
    "scrolled": false
   },
   "outputs": [
    {
     "data": {
      "text/plain": [
       "[<matplotlib.lines.Line2D at 0x7f9b1c039860>]"
      ]
     },
     "execution_count": 186,
     "metadata": {},
     "output_type": "execute_result"
    },
    {
     "data": {
      "image/png": "[encoded data removed]",
      "text/plain": [
       "<matplotlib.figure.Figure at 0x7f9b1c16bcc0>"
      ]
     },
     "metadata": {},
     "output_type": "display_data"
    }
   ],
   "source": [
    "plt.plot(diff_df.time.as_matrix())"
   ]
  },
  {
   "cell_type": "code",
   "execution_count": 187,
   "metadata": {
    "ExecuteTime": {
     "end_time": "2018-02-24T07:07:22.950902Z",
     "start_time": "2018-02-24T07:07:22.947869Z"
    },
    "collapsed": true
   },
   "outputs": [],
   "source": [
    "import numpy as np"
   ]
  },
  {
   "cell_type": "code",
   "execution_count": 189,
   "metadata": {
    "ExecuteTime": {
     "end_time": "2018-02-24T07:10:47.314321Z",
     "start_time": "2018-02-24T07:10:47.310251Z"
    }
   },
   "outputs": [
    {
     "data": {
      "text/plain": [
       "4433"
      ]
     },
     "execution_count": 189,
     "metadata": {},
     "output_type": "execute_result"
    }
   ],
   "source": [
    "indicator_diff = datetime.datetime(2018,2,20,0,0)-datetime.datetime(2006,1,1,0,0)\n",
    "indicator_diff.days"
   ]
  },
  {
   "cell_type": "code",
   "execution_count": 191,
   "metadata": {
    "ExecuteTime": {
     "end_time": "2018-02-24T07:14:48.357985Z",
     "start_time": "2018-02-24T07:14:48.351823Z"
    },
    "collapsed": true
   },
   "outputs": [],
   "source": [
    "def times():\n",
    "    indicator_array=np.zeros(4500)\n",
    "    for i,time in enumerate(diff_df.time):\n",
    "        indicator_array[time] += diff_df[\"time_diff\"][i]\n",
    "    return indicator_array"
   ]
  },
  {
   "cell_type": "code",
   "execution_count": 193,
   "metadata": {
    "ExecuteTime": {
     "end_time": "2018-02-24T07:15:22.904600Z",
     "start_time": "2018-02-24T07:15:22.650970Z"
    }
   },
   "outputs": [
    {
     "data": {
      "text/plain": [
       "47.086888888888886"
      ]
     },
     "execution_count": 193,
     "metadata": {},
     "output_type": "execute_result"
    }
   ],
   "source": [
    "test_array= times()\n",
    "test_array.mean()"
   ]
  },
  {
   "cell_type": "code",
   "execution_count": 194,
   "metadata": {
    "ExecuteTime": {
     "end_time": "2018-02-24T07:26:20.709105Z",
     "start_time": "2018-02-24T07:26:20.704026Z"
    },
    "collapsed": true
   },
   "outputs": [],
   "source": [
    "def fill_in():\n",
    "    a=np.zeros(4500)\n",
    "    for i,time in enumerate(diff_df.time):\n",
    "        a[time] +=1\n",
    "    return a"
   ]
  },
  {
   "cell_type": "code",
   "execution_count": 195,
   "metadata": {
    "ExecuteTime": {
     "end_time": "2018-02-24T07:26:40.908036Z",
     "start_time": "2018-02-24T07:26:40.899626Z"
    },
    "collapsed": true
   },
   "outputs": [],
   "source": [
    "test_ones=fill_in()"
   ]
  },
  {
   "cell_type": "code",
   "execution_count": 196,
   "metadata": {
    "ExecuteTime": {
     "end_time": "2018-02-24T07:26:46.748340Z",
     "start_time": "2018-02-24T07:26:46.744959Z"
    }
   },
   "outputs": [
    {
     "data": {
      "text/plain": [
       "2.4768888888888889"
      ]
     },
     "execution_count": 196,
     "metadata": {},
     "output_type": "execute_result"
    }
   ],
   "source": [
    "test_ones.mean()"
   ]
  },
  {
   "cell_type": "code",
   "execution_count": null,
   "metadata": {
    "collapsed": true
   },
   "outputs": [],
   "source": []
  }
 ],
 "metadata": {
  "kernelspec": {
   "display_name": "Python 3",
   "language": "python",
   "name": "python3"
  },
  "language_info": {
   "codemirror_mode": {
    "name": "ipython",
    "version": 3
   },
   "file_extension": ".py",
   "mimetype": "text/x-python",
   "name": "python",
   "nbconvert_exporter": "python",
   "pygments_lexer": "ipython3",
   "version": "3.6.3"
  },
  "toc": {
   "nav_menu": {},
   "number_sections": true,
   "sideBar": true,
   "skip_h1_title": false,
   "toc_cell": false,
   "toc_position": {},
   "toc_section_display": "block",
   "toc_window_display": false
  },
  "varInspector": {
   "cols": {
    "lenName": 16,
    "lenType": 16,
    "lenVar": 40
   },
   "kernels_config": {
    "python": {
     "delete_cmd_postfix": "",
     "delete_cmd_prefix": "del ",
     "library": "var_list.py",
     "varRefreshCmd": "print(var_dic_list())"
    },
    "r": {
     "delete_cmd_postfix": ") ",
     "delete_cmd_prefix": "rm(",
     "library": "var_list.r",
     "varRefreshCmd": "cat(var_dic_list()) "
    }
   },
   "types_to_exclude": [
    "module",
    "function",
    "builtin_function_or_method",
    "instance",
    "_Feature"
   ],
   "window_display": false
  }
 },
 "nbformat": 4,
 "nbformat_minor": 2
}
